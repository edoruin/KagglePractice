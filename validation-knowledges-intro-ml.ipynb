{
 "cells": [
  {
   "cell_type": "code",
   "execution_count": 1,
   "id": "570b2422",
   "metadata": {
    "_cell_guid": "b1076dfc-b9ad-4769-8c92-a6c4dae69d19",
    "_uuid": "8f2839f25d086af736a60e9eeb907d3b93b6e0e5",
    "execution": {
     "iopub.execute_input": "2024-02-06T20:29:19.484849Z",
     "iopub.status.busy": "2024-02-06T20:29:19.484136Z",
     "iopub.status.idle": "2024-02-06T20:29:20.406850Z",
     "shell.execute_reply": "2024-02-06T20:29:20.405646Z"
    },
    "papermill": {
     "duration": 0.93264,
     "end_time": "2024-02-06T20:29:20.409272",
     "exception": false,
     "start_time": "2024-02-06T20:29:19.476632",
     "status": "completed"
    },
    "tags": []
   },
   "outputs": [
    {
     "name": "stdout",
     "output_type": "stream",
     "text": [
      "/kaggle/input/melbourne-housing-market/Melbourne_housing_FULL.csv\n",
      "/kaggle/input/melbourne-housing-market/MELBOURNE_HOUSE_PRICES_LESS.csv\n"
     ]
    }
   ],
   "source": [
    "# This Python 3 environment comes with many helpful analytics libraries installed\n",
    "# It is defined by the kaggle/python Docker image: https://github.com/kaggle/docker-python\n",
    "# For example, here's several helpful packages to load\n",
    "\n",
    "import numpy as np # linear algebra\n",
    "import pandas as pd # data processing, CSV file I/O (e.g. pd.read_csv)\n",
    "\n",
    "# Input data files are available in the read-only \"../input/\" directory\n",
    "# For example, running this (by clicking run or pressing Shift+Enter) will list all files under the input directory\n",
    "\n",
    "import os\n",
    "for dirname, _, filenames in os.walk('/kaggle/input'):\n",
    "    for filename in filenames:\n",
    "        print(os.path.join(dirname, filename))\n",
    "\n",
    "# You can write up to 20GB to the current directory (/kaggle/working/) that gets preserved as output when you create a version using \"Save & Run All\" \n",
    "# You can also write temporary files to /kaggle/temp/, but they won't be saved outside of the current session"
   ]
  },
  {
   "cell_type": "markdown",
   "id": "bdb22f52",
   "metadata": {
    "papermill": {
     "duration": 0.004635,
     "end_time": "2024-02-06T20:29:20.419162",
     "exception": false,
     "start_time": "2024-02-06T20:29:20.414527",
     "status": "completed"
    },
    "tags": []
   },
   "source": [
    "# Descriptive Analyze"
   ]
  },
  {
   "cell_type": "code",
   "execution_count": 2,
   "id": "c3ebe0ee",
   "metadata": {
    "execution": {
     "iopub.execute_input": "2024-02-06T20:29:20.431345Z",
     "iopub.status.busy": "2024-02-06T20:29:20.430852Z",
     "iopub.status.idle": "2024-02-06T20:29:20.753550Z",
     "shell.execute_reply": "2024-02-06T20:29:20.752320Z"
    },
    "papermill": {
     "duration": 0.332094,
     "end_time": "2024-02-06T20:29:20.756697",
     "exception": false,
     "start_time": "2024-02-06T20:29:20.424603",
     "status": "completed"
    },
    "tags": []
   },
   "outputs": [],
   "source": [
    "data = pd.read_csv('/kaggle/input/melbourne-housing-market/MELBOURNE_HOUSE_PRICES_LESS.csv')"
   ]
  },
  {
   "cell_type": "code",
   "execution_count": 3,
   "id": "9f421f28",
   "metadata": {
    "execution": {
     "iopub.execute_input": "2024-02-06T20:29:20.768750Z",
     "iopub.status.busy": "2024-02-06T20:29:20.768351Z",
     "iopub.status.idle": "2024-02-06T20:29:20.793265Z",
     "shell.execute_reply": "2024-02-06T20:29:20.792248Z"
    },
    "papermill": {
     "duration": 0.03375,
     "end_time": "2024-02-06T20:29:20.795675",
     "exception": false,
     "start_time": "2024-02-06T20:29:20.761925",
     "status": "completed"
    },
    "tags": []
   },
   "outputs": [
    {
     "data": {
      "text/html": [
       "<div>\n",
       "<style scoped>\n",
       "    .dataframe tbody tr th:only-of-type {\n",
       "        vertical-align: middle;\n",
       "    }\n",
       "\n",
       "    .dataframe tbody tr th {\n",
       "        vertical-align: top;\n",
       "    }\n",
       "\n",
       "    .dataframe thead th {\n",
       "        text-align: right;\n",
       "    }\n",
       "</style>\n",
       "<table border=\"1\" class=\"dataframe\">\n",
       "  <thead>\n",
       "    <tr style=\"text-align: right;\">\n",
       "      <th></th>\n",
       "      <th>Suburb</th>\n",
       "      <th>Address</th>\n",
       "      <th>Rooms</th>\n",
       "      <th>Type</th>\n",
       "      <th>Price</th>\n",
       "      <th>Method</th>\n",
       "      <th>SellerG</th>\n",
       "      <th>Date</th>\n",
       "      <th>Postcode</th>\n",
       "      <th>Regionname</th>\n",
       "      <th>Propertycount</th>\n",
       "      <th>Distance</th>\n",
       "      <th>CouncilArea</th>\n",
       "    </tr>\n",
       "  </thead>\n",
       "  <tbody>\n",
       "    <tr>\n",
       "      <th>1</th>\n",
       "      <td>Abbotsford</td>\n",
       "      <td>59A Turner St</td>\n",
       "      <td>3</td>\n",
       "      <td>h</td>\n",
       "      <td>1220000.0</td>\n",
       "      <td>S</td>\n",
       "      <td>Marshall</td>\n",
       "      <td>1/04/2017</td>\n",
       "      <td>3067</td>\n",
       "      <td>Northern Metropolitan</td>\n",
       "      <td>4019</td>\n",
       "      <td>3.0</td>\n",
       "      <td>Yarra City Council</td>\n",
       "    </tr>\n",
       "    <tr>\n",
       "      <th>2</th>\n",
       "      <td>Abbotsford</td>\n",
       "      <td>119B Yarra St</td>\n",
       "      <td>3</td>\n",
       "      <td>h</td>\n",
       "      <td>1420000.0</td>\n",
       "      <td>S</td>\n",
       "      <td>Nelson</td>\n",
       "      <td>1/04/2017</td>\n",
       "      <td>3067</td>\n",
       "      <td>Northern Metropolitan</td>\n",
       "      <td>4019</td>\n",
       "      <td>3.0</td>\n",
       "      <td>Yarra City Council</td>\n",
       "    </tr>\n",
       "    <tr>\n",
       "      <th>3</th>\n",
       "      <td>Aberfeldie</td>\n",
       "      <td>68 Vida St</td>\n",
       "      <td>3</td>\n",
       "      <td>h</td>\n",
       "      <td>1515000.0</td>\n",
       "      <td>S</td>\n",
       "      <td>Barry</td>\n",
       "      <td>1/04/2017</td>\n",
       "      <td>3040</td>\n",
       "      <td>Western Metropolitan</td>\n",
       "      <td>1543</td>\n",
       "      <td>7.5</td>\n",
       "      <td>Moonee Valley City Council</td>\n",
       "    </tr>\n",
       "    <tr>\n",
       "      <th>4</th>\n",
       "      <td>Airport West</td>\n",
       "      <td>92 Clydesdale Rd</td>\n",
       "      <td>2</td>\n",
       "      <td>h</td>\n",
       "      <td>670000.0</td>\n",
       "      <td>S</td>\n",
       "      <td>Nelson</td>\n",
       "      <td>1/04/2017</td>\n",
       "      <td>3042</td>\n",
       "      <td>Western Metropolitan</td>\n",
       "      <td>3464</td>\n",
       "      <td>10.4</td>\n",
       "      <td>Moonee Valley City Council</td>\n",
       "    </tr>\n",
       "    <tr>\n",
       "      <th>5</th>\n",
       "      <td>Airport West</td>\n",
       "      <td>4/32 Earl St</td>\n",
       "      <td>2</td>\n",
       "      <td>t</td>\n",
       "      <td>530000.0</td>\n",
       "      <td>S</td>\n",
       "      <td>Jellis</td>\n",
       "      <td>1/04/2017</td>\n",
       "      <td>3042</td>\n",
       "      <td>Western Metropolitan</td>\n",
       "      <td>3464</td>\n",
       "      <td>10.4</td>\n",
       "      <td>Moonee Valley City Council</td>\n",
       "    </tr>\n",
       "  </tbody>\n",
       "</table>\n",
       "</div>"
      ],
      "text/plain": [
       "         Suburb           Address  Rooms Type      Price Method   SellerG  \\\n",
       "1    Abbotsford     59A Turner St      3    h  1220000.0      S  Marshall   \n",
       "2    Abbotsford     119B Yarra St      3    h  1420000.0      S    Nelson   \n",
       "3    Aberfeldie        68 Vida St      3    h  1515000.0      S     Barry   \n",
       "4  Airport West  92 Clydesdale Rd      2    h   670000.0      S    Nelson   \n",
       "5  Airport West      4/32 Earl St      2    t   530000.0      S    Jellis   \n",
       "\n",
       "        Date  Postcode             Regionname  Propertycount  Distance  \\\n",
       "1  1/04/2017      3067  Northern Metropolitan           4019       3.0   \n",
       "2  1/04/2017      3067  Northern Metropolitan           4019       3.0   \n",
       "3  1/04/2017      3040   Western Metropolitan           1543       7.5   \n",
       "4  1/04/2017      3042   Western Metropolitan           3464      10.4   \n",
       "5  1/04/2017      3042   Western Metropolitan           3464      10.4   \n",
       "\n",
       "                  CouncilArea  \n",
       "1          Yarra City Council  \n",
       "2          Yarra City Council  \n",
       "3  Moonee Valley City Council  \n",
       "4  Moonee Valley City Council  \n",
       "5  Moonee Valley City Council  "
      ]
     },
     "execution_count": 3,
     "metadata": {},
     "output_type": "execute_result"
    }
   ],
   "source": [
    "data_short =  data.iloc[1:10000] #take a part of the data\n",
    "\n",
    "data_short.head()"
   ]
  },
  {
   "cell_type": "code",
   "execution_count": 4,
   "id": "3b31d8c9",
   "metadata": {
    "execution": {
     "iopub.execute_input": "2024-02-06T20:29:20.808422Z",
     "iopub.status.busy": "2024-02-06T20:29:20.807603Z",
     "iopub.status.idle": "2024-02-06T20:29:20.824648Z",
     "shell.execute_reply": "2024-02-06T20:29:20.823536Z"
    },
    "papermill": {
     "duration": 0.025791,
     "end_time": "2024-02-06T20:29:20.826900",
     "exception": false,
     "start_time": "2024-02-06T20:29:20.801109",
     "status": "completed"
    },
    "tags": []
   },
   "outputs": [
    {
     "data": {
      "text/plain": [
       "array(['Northern Metropolitan', 'Western Metropolitan',\n",
       "       'Southern Metropolitan', 'South-Eastern Metropolitan',\n",
       "       'Eastern Metropolitan', 'Northern Victoria', 'Western Victoria',\n",
       "       'Eastern Victoria'], dtype=object)"
      ]
     },
     "execution_count": 4,
     "metadata": {},
     "output_type": "execute_result"
    }
   ],
   "source": [
    "data['Regionname'].unique()"
   ]
  },
  {
   "cell_type": "code",
   "execution_count": 5,
   "id": "6506c968",
   "metadata": {
    "execution": {
     "iopub.execute_input": "2024-02-06T20:29:20.839590Z",
     "iopub.status.busy": "2024-02-06T20:29:20.839236Z",
     "iopub.status.idle": "2024-02-06T20:29:22.571361Z",
     "shell.execute_reply": "2024-02-06T20:29:22.570372Z"
    },
    "papermill": {
     "duration": 1.741521,
     "end_time": "2024-02-06T20:29:22.574046",
     "exception": false,
     "start_time": "2024-02-06T20:29:20.832525",
     "status": "completed"
    },
    "tags": []
   },
   "outputs": [
    {
     "data": {
      "image/png": "[encoded data removed]",
      "text/plain": [
       "<Figure size 640x480 with 1 Axes>"
      ]
     },
     "metadata": {},
     "output_type": "display_data"
    }
   ],
   "source": [
    "import seaborn as sns\n",
    "import matplotlib.pyplot as plt\n",
    "\n",
    "\n",
    "#create a scatter plot with seaborn\n",
    "sns.scatterplot( y=data_short['Regionname'], x=data_short['Price'],  data=data)\n",
    "\n",
    "plt.ticklabel_format(style='plain', axis='x')\n",
    "\n",
    "# add details with plt\n",
    "plt.title('Gráfico de dispersión')\n",
    "plt.xlabel('Prices')\n",
    "plt.ylabel('RegionName')\n",
    "\n",
    "\n",
    "# Muestra el gráfico\n",
    "plt.show()\n"
   ]
  },
  {
   "cell_type": "code",
   "execution_count": 6,
   "id": "458e3dbe",
   "metadata": {
    "execution": {
     "iopub.execute_input": "2024-02-06T20:29:22.589671Z",
     "iopub.status.busy": "2024-02-06T20:29:22.588657Z",
     "iopub.status.idle": "2024-02-06T20:29:22.612199Z",
     "shell.execute_reply": "2024-02-06T20:29:22.611281Z"
    },
    "papermill": {
     "duration": 0.033581,
     "end_time": "2024-02-06T20:29:22.614400",
     "exception": false,
     "start_time": "2024-02-06T20:29:22.580819",
     "status": "completed"
    },
    "tags": []
   },
   "outputs": [
    {
     "data": {
      "text/html": [
       "<div>\n",
       "<style scoped>\n",
       "    .dataframe tbody tr th:only-of-type {\n",
       "        vertical-align: middle;\n",
       "    }\n",
       "\n",
       "    .dataframe tbody tr th {\n",
       "        vertical-align: top;\n",
       "    }\n",
       "\n",
       "    .dataframe thead th {\n",
       "        text-align: right;\n",
       "    }\n",
       "</style>\n",
       "<table border=\"1\" class=\"dataframe\">\n",
       "  <thead>\n",
       "    <tr style=\"text-align: right;\">\n",
       "      <th></th>\n",
       "      <th>Rooms</th>\n",
       "      <th>Regionname</th>\n",
       "      <th>Method</th>\n",
       "      <th>Type</th>\n",
       "      <th>Suburb</th>\n",
       "      <th>Regionname</th>\n",
       "      <th>Distance</th>\n",
       "      <th>Propertycount</th>\n",
       "      <th>CouncilArea</th>\n",
       "    </tr>\n",
       "  </thead>\n",
       "  <tbody>\n",
       "    <tr>\n",
       "      <th>0</th>\n",
       "      <td>3</td>\n",
       "      <td>Northern Metropolitan</td>\n",
       "      <td>S</td>\n",
       "      <td>h</td>\n",
       "      <td>Abbotsford</td>\n",
       "      <td>Northern Metropolitan</td>\n",
       "      <td>3.0</td>\n",
       "      <td>4019</td>\n",
       "      <td>Yarra City Council</td>\n",
       "    </tr>\n",
       "    <tr>\n",
       "      <th>1</th>\n",
       "      <td>3</td>\n",
       "      <td>Northern Metropolitan</td>\n",
       "      <td>S</td>\n",
       "      <td>h</td>\n",
       "      <td>Abbotsford</td>\n",
       "      <td>Northern Metropolitan</td>\n",
       "      <td>3.0</td>\n",
       "      <td>4019</td>\n",
       "      <td>Yarra City Council</td>\n",
       "    </tr>\n",
       "    <tr>\n",
       "      <th>2</th>\n",
       "      <td>3</td>\n",
       "      <td>Northern Metropolitan</td>\n",
       "      <td>S</td>\n",
       "      <td>h</td>\n",
       "      <td>Abbotsford</td>\n",
       "      <td>Northern Metropolitan</td>\n",
       "      <td>3.0</td>\n",
       "      <td>4019</td>\n",
       "      <td>Yarra City Council</td>\n",
       "    </tr>\n",
       "    <tr>\n",
       "      <th>3</th>\n",
       "      <td>3</td>\n",
       "      <td>Western Metropolitan</td>\n",
       "      <td>S</td>\n",
       "      <td>h</td>\n",
       "      <td>Aberfeldie</td>\n",
       "      <td>Western Metropolitan</td>\n",
       "      <td>7.5</td>\n",
       "      <td>1543</td>\n",
       "      <td>Moonee Valley City Council</td>\n",
       "    </tr>\n",
       "    <tr>\n",
       "      <th>4</th>\n",
       "      <td>2</td>\n",
       "      <td>Western Metropolitan</td>\n",
       "      <td>S</td>\n",
       "      <td>h</td>\n",
       "      <td>Airport West</td>\n",
       "      <td>Western Metropolitan</td>\n",
       "      <td>10.4</td>\n",
       "      <td>3464</td>\n",
       "      <td>Moonee Valley City Council</td>\n",
       "    </tr>\n",
       "  </tbody>\n",
       "</table>\n",
       "</div>"
      ],
      "text/plain": [
       "   Rooms             Regionname Method Type        Suburb  \\\n",
       "0      3  Northern Metropolitan      S    h    Abbotsford   \n",
       "1      3  Northern Metropolitan      S    h    Abbotsford   \n",
       "2      3  Northern Metropolitan      S    h    Abbotsford   \n",
       "3      3   Western Metropolitan      S    h    Aberfeldie   \n",
       "4      2   Western Metropolitan      S    h  Airport West   \n",
       "\n",
       "              Regionname  Distance  Propertycount                 CouncilArea  \n",
       "0  Northern Metropolitan       3.0           4019          Yarra City Council  \n",
       "1  Northern Metropolitan       3.0           4019          Yarra City Council  \n",
       "2  Northern Metropolitan       3.0           4019          Yarra City Council  \n",
       "3   Western Metropolitan       7.5           1543  Moonee Valley City Council  \n",
       "4   Western Metropolitan      10.4           3464  Moonee Valley City Council  "
      ]
     },
     "execution_count": 6,
     "metadata": {},
     "output_type": "execute_result"
    }
   ],
   "source": [
    "features = data[['Rooms','Regionname', 'Method','Type','Suburb','Regionname', 'Distance', 'Propertycount', 'CouncilArea']]\n",
    "\n",
    "features.head()\n"
   ]
  },
  {
   "cell_type": "code",
   "execution_count": 7,
   "id": "570b1384",
   "metadata": {
    "execution": {
     "iopub.execute_input": "2024-02-06T20:29:22.630549Z",
     "iopub.status.busy": "2024-02-06T20:29:22.630165Z",
     "iopub.status.idle": "2024-02-06T20:29:22.982014Z",
     "shell.execute_reply": "2024-02-06T20:29:22.980845Z"
    },
    "papermill": {
     "duration": 0.363623,
     "end_time": "2024-02-06T20:29:22.984938",
     "exception": false,
     "start_time": "2024-02-06T20:29:22.621315",
     "status": "completed"
    },
    "tags": []
   },
   "outputs": [
    {
     "name": "stderr",
     "output_type": "stream",
     "text": [
      "/tmp/ipykernel_18/182874786.py:7: SettingWithCopyWarning: \n",
      "A value is trying to be set on a copy of a slice from a DataFrame.\n",
      "Try using .loc[row_indexer,col_indexer] = value instead\n",
      "\n",
      "See the caveats in the documentation: https://pandas.pydata.org/pandas-docs/stable/user_guide/indexing.html#returning-a-view-versus-a-copy\n",
      "  features[names_cat] = Encoder.fit_transform(features[names_cat])\n"
     ]
    }
   ],
   "source": [
    "from sklearn.preprocessing import OrdinalEncoder #transform the cualitative data in cuantitative data\n",
    "\n",
    "Encoder = OrdinalEncoder() #put de ordinalencoder fuction\n",
    "\n",
    "names_cat =  features.select_dtypes(include='object').columns\n",
    "\n",
    "features[names_cat] = Encoder.fit_transform(features[names_cat]) \n",
    "\n"
   ]
  },
  {
   "cell_type": "markdown",
   "id": "b0eeb70b",
   "metadata": {
    "papermill": {
     "duration": 0.006902,
     "end_time": "2024-02-06T20:29:22.998878",
     "exception": false,
     "start_time": "2024-02-06T20:29:22.991976",
     "status": "completed"
    },
    "tags": []
   },
   "source": [
    "# creation of model"
   ]
  },
  {
   "cell_type": "code",
   "execution_count": 8,
   "id": "dacb7b89",
   "metadata": {
    "execution": {
     "iopub.execute_input": "2024-02-06T20:29:23.015794Z",
     "iopub.status.busy": "2024-02-06T20:29:23.015382Z",
     "iopub.status.idle": "2024-02-06T20:29:23.022105Z",
     "shell.execute_reply": "2024-02-06T20:29:23.021104Z"
    },
    "papermill": {
     "duration": 0.017476,
     "end_time": "2024-02-06T20:29:23.024443",
     "exception": false,
     "start_time": "2024-02-06T20:29:23.006967",
     "status": "completed"
    },
    "tags": []
   },
   "outputs": [],
   "source": [
    "y = data['Price']\n",
    "y =  y.fillna(y.mean())\n",
    "\n",
    "X = features\n"
   ]
  },
  {
   "cell_type": "code",
   "execution_count": 9,
   "id": "b424a1d7",
   "metadata": {
    "execution": {
     "iopub.execute_input": "2024-02-06T20:29:23.040012Z",
     "iopub.status.busy": "2024-02-06T20:29:23.039633Z",
     "iopub.status.idle": "2024-02-06T20:29:23.465426Z",
     "shell.execute_reply": "2024-02-06T20:29:23.464527Z"
    },
    "papermill": {
     "duration": 0.436188,
     "end_time": "2024-02-06T20:29:23.467624",
     "exception": false,
     "start_time": "2024-02-06T20:29:23.031436",
     "status": "completed"
    },
    "tags": []
   },
   "outputs": [
    {
     "data": {
      "text/html": [
       "<style>#sk-container-id-1 {color: black;background-color: white;}#sk-container-id-1 pre{padding: 0;}#sk-container-id-1 div.sk-toggleable {background-color: white;}#sk-container-id-1 label.sk-toggleable__label {cursor: pointer;display: block;width: 100%;margin-bottom: 0;padding: 0.3em;box-sizing: border-box;text-align: center;}#sk-container-id-1 label.sk-toggleable__label-arrow:before {content: \"▸\";float: left;margin-right: 0.25em;color: #696969;}#sk-container-id-1 label.sk-toggleable__label-arrow:hover:before {color: black;}#sk-container-id-1 div.sk-estimator:hover label.sk-toggleable__label-arrow:before {color: black;}#sk-container-id-1 div.sk-toggleable__content {max-height: 0;max-width: 0;overflow: hidden;text-align: left;background-color: #f0f8ff;}#sk-container-id-1 div.sk-toggleable__content pre {margin: 0.2em;color: black;border-radius: 0.25em;background-color: #f0f8ff;}#sk-container-id-1 input.sk-toggleable__control:checked~div.sk-toggleable__content {max-height: 200px;max-width: 100%;overflow: auto;}#sk-container-id-1 input.sk-toggleable__control:checked~label.sk-toggleable__label-arrow:before {content: \"▾\";}#sk-container-id-1 div.sk-estimator input.sk-toggleable__control:checked~label.sk-toggleable__label {background-color: #d4ebff;}#sk-container-id-1 div.sk-label input.sk-toggleable__control:checked~label.sk-toggleable__label {background-color: #d4ebff;}#sk-container-id-1 input.sk-hidden--visually {border: 0;clip: rect(1px 1px 1px 1px);clip: rect(1px, 1px, 1px, 1px);height: 1px;margin: -1px;overflow: hidden;padding: 0;position: absolute;width: 1px;}#sk-container-id-1 div.sk-estimator {font-family: monospace;background-color: #f0f8ff;border: 1px dotted black;border-radius: 0.25em;box-sizing: border-box;margin-bottom: 0.5em;}#sk-container-id-1 div.sk-estimator:hover {background-color: #d4ebff;}#sk-container-id-1 div.sk-parallel-item::after {content: \"\";width: 100%;border-bottom: 1px solid gray;flex-grow: 1;}#sk-container-id-1 div.sk-label:hover label.sk-toggleable__label {background-color: #d4ebff;}#sk-container-id-1 div.sk-serial::before {content: \"\";position: absolute;border-left: 1px solid gray;box-sizing: border-box;top: 0;bottom: 0;left: 50%;z-index: 0;}#sk-container-id-1 div.sk-serial {display: flex;flex-direction: column;align-items: center;background-color: white;padding-right: 0.2em;padding-left: 0.2em;position: relative;}#sk-container-id-1 div.sk-item {position: relative;z-index: 1;}#sk-container-id-1 div.sk-parallel {display: flex;align-items: stretch;justify-content: center;background-color: white;position: relative;}#sk-container-id-1 div.sk-item::before, #sk-container-id-1 div.sk-parallel-item::before {content: \"\";position: absolute;border-left: 1px solid gray;box-sizing: border-box;top: 0;bottom: 0;left: 50%;z-index: -1;}#sk-container-id-1 div.sk-parallel-item {display: flex;flex-direction: column;z-index: 1;position: relative;background-color: white;}#sk-container-id-1 div.sk-parallel-item:first-child::after {align-self: flex-end;width: 50%;}#sk-container-id-1 div.sk-parallel-item:last-child::after {align-self: flex-start;width: 50%;}#sk-container-id-1 div.sk-parallel-item:only-child::after {width: 0;}#sk-container-id-1 div.sk-dashed-wrapped {border: 1px dashed gray;margin: 0 0.4em 0.5em 0.4em;box-sizing: border-box;padding-bottom: 0.4em;background-color: white;}#sk-container-id-1 div.sk-label label {font-family: monospace;font-weight: bold;display: inline-block;line-height: 1.2em;}#sk-container-id-1 div.sk-label-container {text-align: center;}#sk-container-id-1 div.sk-container {/* jupyter's `normalize.less` sets `[hidden] { display: none; }` but bootstrap.min.css set `[hidden] { display: none !important; }` so we also need the `!important` here to be able to override the default hidden behavior on the sphinx rendered scikit-learn.org. See: https://github.com/scikit-learn/scikit-learn/issues/21755 */display: inline-block !important;position: relative;}#sk-container-id-1 div.sk-text-repr-fallback {display: none;}</style><div id=\"sk-container-id-1\" class=\"sk-top-container\"><div class=\"sk-text-repr-fallback\"><pre>DecisionTreeRegressor()</pre><b>In a Jupyter environment, please rerun this cell to show the HTML representation or trust the notebook. <br />On GitHub, the HTML representation is unable to render, please try loading this page with nbviewer.org.</b></div><div class=\"sk-container\" hidden><div class=\"sk-item\"><div class=\"sk-estimator sk-toggleable\"><input class=\"sk-toggleable__control sk-hidden--visually\" id=\"sk-estimator-id-1\" type=\"checkbox\" checked><label for=\"sk-estimator-id-1\" class=\"sk-toggleable__label sk-toggleable__label-arrow\">DecisionTreeRegressor</label><div class=\"sk-toggleable__content\"><pre>DecisionTreeRegressor()</pre></div></div></div></div></div>"
      ],
      "text/plain": [
       "DecisionTreeRegressor()"
      ]
     },
     "execution_count": 9,
     "metadata": {},
     "output_type": "execute_result"
    }
   ],
   "source": [
    "from sklearn.tree import DecisionTreeRegressor\n",
    "\n",
    "\n",
    "regressor = DecisionTreeRegressor()\n",
    "regressor.fit(X,y)"
   ]
  },
  {
   "cell_type": "code",
   "execution_count": 10,
   "id": "e62b9213",
   "metadata": {
    "execution": {
     "iopub.execute_input": "2024-02-06T20:29:23.483812Z",
     "iopub.status.busy": "2024-02-06T20:29:23.483346Z",
     "iopub.status.idle": "2024-02-06T20:29:23.508787Z",
     "shell.execute_reply": "2024-02-06T20:29:23.507651Z"
    },
    "papermill": {
     "duration": 0.036294,
     "end_time": "2024-02-06T20:29:23.511124",
     "exception": false,
     "start_time": "2024-02-06T20:29:23.474830",
     "status": "completed"
    },
    "tags": []
   },
   "outputs": [
    {
     "data": {
      "text/plain": [
       "array([1263251.32808504, 1263251.32808504, 1263251.32808504, ...,\n",
       "        482174.44937753,  855923.68111618,  923949.12074412])"
      ]
     },
     "execution_count": 10,
     "metadata": {},
     "output_type": "execute_result"
    }
   ],
   "source": [
    "regressor.predict(features)  #predict the mean of amount of cost of the Houses"
   ]
  },
  {
   "cell_type": "markdown",
   "id": "86085bcc",
   "metadata": {
    "papermill": {
     "duration": 0.007127,
     "end_time": "2024-02-06T20:29:23.525615",
     "exception": false,
     "start_time": "2024-02-06T20:29:23.518488",
     "status": "completed"
    },
    "tags": []
   },
   "source": [
    "# Model validation"
   ]
  }
 ],
 "metadata": {
  "kaggle": {
   "accelerator": "none",
   "dataSources": [
    {
     "datasetId": 423,
     "sourceId": 126865,
     "sourceType": "datasetVersion"
    }
   ],
   "dockerImageVersionId": 30646,
   "isGpuEnabled": false,
   "isInternetEnabled": true,
   "language": "python",
   "sourceType": "notebook"
  },
  "kernelspec": {
   "display_name": "Python 3",
   "language": "python",
   "name": "python3"
  },
  "language_info": {
   "codemirror_mode": {
    "name": "ipython",
    "version": 3
   },
   "file_extension": ".py",
   "mimetype": "text/x-python",
   "name": "python",
   "nbconvert_exporter": "python",
   "pygments_lexer": "ipython3",
   "version": "3.10.13"
  },
  "papermill": {
   "default_parameters": {},
   "duration": 7.580421,
   "end_time": "2024-02-06T20:29:24.153479",
   "environment_variables": {},
   "exception": null,
   "input_path": "__notebook__.ipynb",
   "output_path": "__notebook__.ipynb",
   "parameters": {},
   "start_time": "2024-02-06T20:29:16.573058",
   "version": "2.5.0"
  }
 },
 "nbformat": 4,
 "nbformat_minor": 5
}
