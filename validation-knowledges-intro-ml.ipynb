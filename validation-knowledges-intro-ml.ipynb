{
 "cells": [
  {
   "cell_type": "code",
   "execution_count": 1,
   "id": "1906ae1d",
   "metadata": {
    "_cell_guid": "b1076dfc-b9ad-4769-8c92-a6c4dae69d19",
    "_uuid": "8f2839f25d086af736a60e9eeb907d3b93b6e0e5",
    "execution": {
     "iopub.execute_input": "2024-02-06T21:13:03.963182Z",
     "iopub.status.busy": "2024-02-06T21:13:03.962344Z",
     "iopub.status.idle": "2024-02-06T21:13:04.850420Z",
     "shell.execute_reply": "2024-02-06T21:13:04.848786Z"
    },
    "papermill": {
     "duration": 0.896283,
     "end_time": "2024-02-06T21:13:04.853003",
     "exception": false,
     "start_time": "2024-02-06T21:13:03.956720",
     "status": "completed"
    },
    "tags": []
   },
   "outputs": [
    {
     "name": "stdout",
     "output_type": "stream",
     "text": [
      "/kaggle/input/melbourne-housing-market/Melbourne_housing_FULL.csv\n",
      "/kaggle/input/melbourne-housing-market/MELBOURNE_HOUSE_PRICES_LESS.csv\n"
     ]
    }
   ],
   "source": [
    "# This Python 3 environment comes with many helpful analytics libraries installed\n",
    "# It is defined by the kaggle/python Docker image: https://github.com/kaggle/docker-python\n",
    "# For example, here's several helpful packages to load\n",
    "\n",
    "import numpy as np # linear algebra\n",
    "import pandas as pd # data processing, CSV file I/O (e.g. pd.read_csv)\n",
    "\n",
    "# Input data files are available in the read-only \"../input/\" directory\n",
    "# For example, running this (by clicking run or pressing Shift+Enter) will list all files under the input directory\n",
    "\n",
    "import os\n",
    "for dirname, _, filenames in os.walk('/kaggle/input'):\n",
    "    for filename in filenames:\n",
    "        print(os.path.join(dirname, filename))\n",
    "\n",
    "# You can write up to 20GB to the current directory (/kaggle/working/) that gets preserved as output when you create a version using \"Save & Run All\" \n",
    "# You can also write temporary files to /kaggle/temp/, but they won't be saved outside of the current session"
   ]
  },
  {
   "cell_type": "markdown",
   "id": "5c73eac1",
   "metadata": {
    "papermill": {
     "duration": 0.003205,
     "end_time": "2024-02-06T21:13:04.860304",
     "exception": false,
     "start_time": "2024-02-06T21:13:04.857099",
     "status": "completed"
    },
    "tags": []
   },
   "source": [
    "# Descriptive Analyze"
   ]
  },
  {
   "cell_type": "code",
   "execution_count": 2,
   "id": "7d8d7f05",
   "metadata": {
    "execution": {
     "iopub.execute_input": "2024-02-06T21:13:04.868414Z",
     "iopub.status.busy": "2024-02-06T21:13:04.867965Z",
     "iopub.status.idle": "2024-02-06T21:13:05.140944Z",
     "shell.execute_reply": "2024-02-06T21:13:05.140005Z"
    },
    "papermill": {
     "duration": 0.279744,
     "end_time": "2024-02-06T21:13:05.143247",
     "exception": false,
     "start_time": "2024-02-06T21:13:04.863503",
     "status": "completed"
    },
    "tags": []
   },
   "outputs": [],
   "source": [
    "data = pd.read_csv('/kaggle/input/melbourne-housing-market/MELBOURNE_HOUSE_PRICES_LESS.csv')"
   ]
  },
  {
   "cell_type": "code",
   "execution_count": 3,
   "id": "b82bbb15",
   "metadata": {
    "execution": {
     "iopub.execute_input": "2024-02-06T21:13:05.152094Z",
     "iopub.status.busy": "2024-02-06T21:13:05.151735Z",
     "iopub.status.idle": "2024-02-06T21:13:05.173779Z",
     "shell.execute_reply": "2024-02-06T21:13:05.172890Z"
    },
    "papermill": {
     "duration": 0.028415,
     "end_time": "2024-02-06T21:13:05.175564",
     "exception": false,
     "start_time": "2024-02-06T21:13:05.147149",
     "status": "completed"
    },
    "tags": []
   },
   "outputs": [
    {
     "data": {
      "text/html": [
       "<div>\n",
       "<style scoped>\n",
       "    .dataframe tbody tr th:only-of-type {\n",
       "        vertical-align: middle;\n",
       "    }\n",
       "\n",
       "    .dataframe tbody tr th {\n",
       "        vertical-align: top;\n",
       "    }\n",
       "\n",
       "    .dataframe thead th {\n",
       "        text-align: right;\n",
       "    }\n",
       "</style>\n",
       "<table border=\"1\" class=\"dataframe\">\n",
       "  <thead>\n",
       "    <tr style=\"text-align: right;\">\n",
       "      <th></th>\n",
       "      <th>Suburb</th>\n",
       "      <th>Address</th>\n",
       "      <th>Rooms</th>\n",
       "      <th>Type</th>\n",
       "      <th>Price</th>\n",
       "      <th>Method</th>\n",
       "      <th>SellerG</th>\n",
       "      <th>Date</th>\n",
       "      <th>Postcode</th>\n",
       "      <th>Regionname</th>\n",
       "      <th>Propertycount</th>\n",
       "      <th>Distance</th>\n",
       "      <th>CouncilArea</th>\n",
       "    </tr>\n",
       "  </thead>\n",
       "  <tbody>\n",
       "    <tr>\n",
       "      <th>1</th>\n",
       "      <td>Abbotsford</td>\n",
       "      <td>59A Turner St</td>\n",
       "      <td>3</td>\n",
       "      <td>h</td>\n",
       "      <td>1220000.0</td>\n",
       "      <td>S</td>\n",
       "      <td>Marshall</td>\n",
       "      <td>1/04/2017</td>\n",
       "      <td>3067</td>\n",
       "      <td>Northern Metropolitan</td>\n",
       "      <td>4019</td>\n",
       "      <td>3.0</td>\n",
       "      <td>Yarra City Council</td>\n",
       "    </tr>\n",
       "    <tr>\n",
       "      <th>2</th>\n",
       "      <td>Abbotsford</td>\n",
       "      <td>119B Yarra St</td>\n",
       "      <td>3</td>\n",
       "      <td>h</td>\n",
       "      <td>1420000.0</td>\n",
       "      <td>S</td>\n",
       "      <td>Nelson</td>\n",
       "      <td>1/04/2017</td>\n",
       "      <td>3067</td>\n",
       "      <td>Northern Metropolitan</td>\n",
       "      <td>4019</td>\n",
       "      <td>3.0</td>\n",
       "      <td>Yarra City Council</td>\n",
       "    </tr>\n",
       "    <tr>\n",
       "      <th>3</th>\n",
       "      <td>Aberfeldie</td>\n",
       "      <td>68 Vida St</td>\n",
       "      <td>3</td>\n",
       "      <td>h</td>\n",
       "      <td>1515000.0</td>\n",
       "      <td>S</td>\n",
       "      <td>Barry</td>\n",
       "      <td>1/04/2017</td>\n",
       "      <td>3040</td>\n",
       "      <td>Western Metropolitan</td>\n",
       "      <td>1543</td>\n",
       "      <td>7.5</td>\n",
       "      <td>Moonee Valley City Council</td>\n",
       "    </tr>\n",
       "    <tr>\n",
       "      <th>4</th>\n",
       "      <td>Airport West</td>\n",
       "      <td>92 Clydesdale Rd</td>\n",
       "      <td>2</td>\n",
       "      <td>h</td>\n",
       "      <td>670000.0</td>\n",
       "      <td>S</td>\n",
       "      <td>Nelson</td>\n",
       "      <td>1/04/2017</td>\n",
       "      <td>3042</td>\n",
       "      <td>Western Metropolitan</td>\n",
       "      <td>3464</td>\n",
       "      <td>10.4</td>\n",
       "      <td>Moonee Valley City Council</td>\n",
       "    </tr>\n",
       "    <tr>\n",
       "      <th>5</th>\n",
       "      <td>Airport West</td>\n",
       "      <td>4/32 Earl St</td>\n",
       "      <td>2</td>\n",
       "      <td>t</td>\n",
       "      <td>530000.0</td>\n",
       "      <td>S</td>\n",
       "      <td>Jellis</td>\n",
       "      <td>1/04/2017</td>\n",
       "      <td>3042</td>\n",
       "      <td>Western Metropolitan</td>\n",
       "      <td>3464</td>\n",
       "      <td>10.4</td>\n",
       "      <td>Moonee Valley City Council</td>\n",
       "    </tr>\n",
       "  </tbody>\n",
       "</table>\n",
       "</div>"
      ],
      "text/plain": [
       "         Suburb           Address  Rooms Type      Price Method   SellerG  \\\n",
       "1    Abbotsford     59A Turner St      3    h  1220000.0      S  Marshall   \n",
       "2    Abbotsford     119B Yarra St      3    h  1420000.0      S    Nelson   \n",
       "3    Aberfeldie        68 Vida St      3    h  1515000.0      S     Barry   \n",
       "4  Airport West  92 Clydesdale Rd      2    h   670000.0      S    Nelson   \n",
       "5  Airport West      4/32 Earl St      2    t   530000.0      S    Jellis   \n",
       "\n",
       "        Date  Postcode             Regionname  Propertycount  Distance  \\\n",
       "1  1/04/2017      3067  Northern Metropolitan           4019       3.0   \n",
       "2  1/04/2017      3067  Northern Metropolitan           4019       3.0   \n",
       "3  1/04/2017      3040   Western Metropolitan           1543       7.5   \n",
       "4  1/04/2017      3042   Western Metropolitan           3464      10.4   \n",
       "5  1/04/2017      3042   Western Metropolitan           3464      10.4   \n",
       "\n",
       "                  CouncilArea  \n",
       "1          Yarra City Council  \n",
       "2          Yarra City Council  \n",
       "3  Moonee Valley City Council  \n",
       "4  Moonee Valley City Council  \n",
       "5  Moonee Valley City Council  "
      ]
     },
     "execution_count": 3,
     "metadata": {},
     "output_type": "execute_result"
    }
   ],
   "source": [
    "data_short =  data.iloc[1:10000] #take a part of the data\n",
    "\n",
    "data_short.head()"
   ]
  },
  {
   "cell_type": "markdown",
   "id": "20e4be4c",
   "metadata": {
    "papermill": {
     "duration": 0.003294,
     "end_time": "2024-02-06T21:13:05.182555",
     "exception": false,
     "start_time": "2024-02-06T21:13:05.179261",
     "status": "completed"
    },
    "tags": []
   },
   "source": [
    "****i use the scatter plot for visualizate one correlation in few of the variables that i use****"
   ]
  },
  {
   "cell_type": "code",
   "execution_count": 4,
   "id": "03e61caa",
   "metadata": {
    "execution": {
     "iopub.execute_input": "2024-02-06T21:13:05.191815Z",
     "iopub.status.busy": "2024-02-06T21:13:05.191384Z",
     "iopub.status.idle": "2024-02-06T21:13:06.815823Z",
     "shell.execute_reply": "2024-02-06T21:13:06.814774Z"
    },
    "papermill": {
     "duration": 1.631552,
     "end_time": "2024-02-06T21:13:06.817711",
     "exception": false,
     "start_time": "2024-02-06T21:13:05.186159",
     "status": "completed"
    },
    "tags": []
   },
   "outputs": [
    {
     "data": {
      "image/png": "[encoded data removed]",
      "text/plain": [
       "<Figure size 640x480 with 1 Axes>"
      ]
     },
     "metadata": {},
     "output_type": "display_data"
    }
   ],
   "source": [
    "import seaborn as sns\n",
    "import matplotlib.pyplot as plt\n",
    "\n",
    "\n",
    "#create a scatter plot with seaborn\n",
    "sns.scatterplot( y=data_short['Regionname'], x=data_short['Price'],  data=data)\n",
    "\n",
    "plt.ticklabel_format(style='plain', axis='x')\n",
    "\n",
    "# add details with plt\n",
    "plt.title('Gráfico de dispersión')\n",
    "plt.xlabel('Prices')\n",
    "plt.ylabel('RegionName')\n",
    "\n",
    "\n",
    "# show the plot\n",
    "plt.show()\n"
   ]
  },
  {
   "cell_type": "code",
   "execution_count": 5,
   "id": "f8546fae",
   "metadata": {
    "execution": {
     "iopub.execute_input": "2024-02-06T21:13:06.828757Z",
     "iopub.status.busy": "2024-02-06T21:13:06.828396Z",
     "iopub.status.idle": "2024-02-06T21:13:07.018601Z",
     "shell.execute_reply": "2024-02-06T21:13:07.017562Z"
    },
    "papermill": {
     "duration": 0.198903,
     "end_time": "2024-02-06T21:13:07.021039",
     "exception": false,
     "start_time": "2024-02-06T21:13:06.822136",
     "status": "completed"
    },
    "tags": []
   },
   "outputs": [
    {
     "data": {
      "image/png": "[encoded data removed]",
      "text/plain": [
       "<Figure size 640x480 with 1 Axes>"
      ]
     },
     "metadata": {},
     "output_type": "display_data"
    }
   ],
   "source": [
    "import seaborn as sns\n",
    "import matplotlib.pyplot as plt\n",
    "\n",
    "\n",
    "#create a scatter plot with seaborn\n",
    "sns.scatterplot( y=data_short['Rooms'], x=data_short['Price'],  data=data)\n",
    "\n",
    "plt.ticklabel_format(style='plain', axis='x')\n",
    "\n",
    "# add details with plt\n",
    "plt.title('Gráfico de dispersión')\n",
    "plt.xlabel('Prices')\n",
    "plt.ylabel('NUM of Rooms')\n",
    "\n",
    "\n",
    "# show the plot\n",
    "plt.show()"
   ]
  },
  {
   "cell_type": "code",
   "execution_count": 6,
   "id": "afab9561",
   "metadata": {
    "execution": {
     "iopub.execute_input": "2024-02-06T21:13:07.032184Z",
     "iopub.status.busy": "2024-02-06T21:13:07.031782Z",
     "iopub.status.idle": "2024-02-06T21:13:07.225173Z",
     "shell.execute_reply": "2024-02-06T21:13:07.224005Z"
    },
    "papermill": {
     "duration": 0.201272,
     "end_time": "2024-02-06T21:13:07.227122",
     "exception": false,
     "start_time": "2024-02-06T21:13:07.025850",
     "status": "completed"
    },
    "tags": []
   },
   "outputs": [
    {
     "data": {
      "image/png": "[encoded data removed]",
      "text/plain": [
       "<Figure size 640x480 with 1 Axes>"
      ]
     },
     "metadata": {},
     "output_type": "display_data"
    }
   ],
   "source": [
    "import seaborn as sns\n",
    "import matplotlib.pyplot as plt\n",
    "\n",
    "\n",
    "#create a scatter plot with seaborn\n",
    "sns.scatterplot( y=data_short['Method'], x=data_short['Price'],  data=data)\n",
    "\n",
    "plt.ticklabel_format(style='plain', axis='x')\n",
    "\n",
    "# add details with plt\n",
    "plt.title('Gráfico de dispersión')\n",
    "plt.xlabel('price')\n",
    "plt.ylabel('Method of vent')\n",
    "\n",
    "\n",
    "# show the plot\n",
    "plt.show()"
   ]
  },
  {
   "cell_type": "code",
   "execution_count": 7,
   "id": "40f445ec",
   "metadata": {
    "execution": {
     "iopub.execute_input": "2024-02-06T21:13:07.239283Z",
     "iopub.status.busy": "2024-02-06T21:13:07.238985Z",
     "iopub.status.idle": "2024-02-06T21:13:07.261169Z",
     "shell.execute_reply": "2024-02-06T21:13:07.260047Z"
    },
    "papermill": {
     "duration": 0.030373,
     "end_time": "2024-02-06T21:13:07.262924",
     "exception": false,
     "start_time": "2024-02-06T21:13:07.232551",
     "status": "completed"
    },
    "tags": []
   },
   "outputs": [
    {
     "data": {
      "text/html": [
       "<div>\n",
       "<style scoped>\n",
       "    .dataframe tbody tr th:only-of-type {\n",
       "        vertical-align: middle;\n",
       "    }\n",
       "\n",
       "    .dataframe tbody tr th {\n",
       "        vertical-align: top;\n",
       "    }\n",
       "\n",
       "    .dataframe thead th {\n",
       "        text-align: right;\n",
       "    }\n",
       "</style>\n",
       "<table border=\"1\" class=\"dataframe\">\n",
       "  <thead>\n",
       "    <tr style=\"text-align: right;\">\n",
       "      <th></th>\n",
       "      <th>Rooms</th>\n",
       "      <th>Regionname</th>\n",
       "      <th>Address</th>\n",
       "      <th>Type</th>\n",
       "      <th>Suburb</th>\n",
       "      <th>Regionname</th>\n",
       "      <th>Distance</th>\n",
       "      <th>Propertycount</th>\n",
       "      <th>CouncilArea</th>\n",
       "    </tr>\n",
       "  </thead>\n",
       "  <tbody>\n",
       "    <tr>\n",
       "      <th>0</th>\n",
       "      <td>3</td>\n",
       "      <td>Northern Metropolitan</td>\n",
       "      <td>49 Lithgow St</td>\n",
       "      <td>h</td>\n",
       "      <td>Abbotsford</td>\n",
       "      <td>Northern Metropolitan</td>\n",
       "      <td>3.0</td>\n",
       "      <td>4019</td>\n",
       "      <td>Yarra City Council</td>\n",
       "    </tr>\n",
       "    <tr>\n",
       "      <th>1</th>\n",
       "      <td>3</td>\n",
       "      <td>Northern Metropolitan</td>\n",
       "      <td>59A Turner St</td>\n",
       "      <td>h</td>\n",
       "      <td>Abbotsford</td>\n",
       "      <td>Northern Metropolitan</td>\n",
       "      <td>3.0</td>\n",
       "      <td>4019</td>\n",
       "      <td>Yarra City Council</td>\n",
       "    </tr>\n",
       "    <tr>\n",
       "      <th>2</th>\n",
       "      <td>3</td>\n",
       "      <td>Northern Metropolitan</td>\n",
       "      <td>119B Yarra St</td>\n",
       "      <td>h</td>\n",
       "      <td>Abbotsford</td>\n",
       "      <td>Northern Metropolitan</td>\n",
       "      <td>3.0</td>\n",
       "      <td>4019</td>\n",
       "      <td>Yarra City Council</td>\n",
       "    </tr>\n",
       "    <tr>\n",
       "      <th>3</th>\n",
       "      <td>3</td>\n",
       "      <td>Western Metropolitan</td>\n",
       "      <td>68 Vida St</td>\n",
       "      <td>h</td>\n",
       "      <td>Aberfeldie</td>\n",
       "      <td>Western Metropolitan</td>\n",
       "      <td>7.5</td>\n",
       "      <td>1543</td>\n",
       "      <td>Moonee Valley City Council</td>\n",
       "    </tr>\n",
       "    <tr>\n",
       "      <th>4</th>\n",
       "      <td>2</td>\n",
       "      <td>Western Metropolitan</td>\n",
       "      <td>92 Clydesdale Rd</td>\n",
       "      <td>h</td>\n",
       "      <td>Airport West</td>\n",
       "      <td>Western Metropolitan</td>\n",
       "      <td>10.4</td>\n",
       "      <td>3464</td>\n",
       "      <td>Moonee Valley City Council</td>\n",
       "    </tr>\n",
       "  </tbody>\n",
       "</table>\n",
       "</div>"
      ],
      "text/plain": [
       "   Rooms             Regionname           Address Type        Suburb  \\\n",
       "0      3  Northern Metropolitan     49 Lithgow St    h    Abbotsford   \n",
       "1      3  Northern Metropolitan     59A Turner St    h    Abbotsford   \n",
       "2      3  Northern Metropolitan     119B Yarra St    h    Abbotsford   \n",
       "3      3   Western Metropolitan        68 Vida St    h    Aberfeldie   \n",
       "4      2   Western Metropolitan  92 Clydesdale Rd    h  Airport West   \n",
       "\n",
       "              Regionname  Distance  Propertycount                 CouncilArea  \n",
       "0  Northern Metropolitan       3.0           4019          Yarra City Council  \n",
       "1  Northern Metropolitan       3.0           4019          Yarra City Council  \n",
       "2  Northern Metropolitan       3.0           4019          Yarra City Council  \n",
       "3   Western Metropolitan       7.5           1543  Moonee Valley City Council  \n",
       "4   Western Metropolitan      10.4           3464  Moonee Valley City Council  "
      ]
     },
     "execution_count": 7,
     "metadata": {},
     "output_type": "execute_result"
    }
   ],
   "source": [
    "#create de features variable with categorical and numericals variables\n",
    "\n",
    "features = data[['Rooms','Regionname', 'Address','Type','Suburb','Regionname', 'Distance', 'Propertycount', 'CouncilArea']]\n",
    "\n",
    "features.head()\n"
   ]
  },
  {
   "cell_type": "code",
   "execution_count": 8,
   "id": "330fb735",
   "metadata": {
    "execution": {
     "iopub.execute_input": "2024-02-06T21:13:07.274825Z",
     "iopub.status.busy": "2024-02-06T21:13:07.274503Z",
     "iopub.status.idle": "2024-02-06T21:13:07.812086Z",
     "shell.execute_reply": "2024-02-06T21:13:07.810605Z"
    },
    "papermill": {
     "duration": 0.545722,
     "end_time": "2024-02-06T21:13:07.813857",
     "exception": false,
     "start_time": "2024-02-06T21:13:07.268135",
     "status": "completed"
    },
    "tags": []
   },
   "outputs": [
    {
     "name": "stderr",
     "output_type": "stream",
     "text": [
      "/tmp/ipykernel_18/4099579486.py:8: SettingWithCopyWarning: \n",
      "A value is trying to be set on a copy of a slice from a DataFrame.\n",
      "Try using .loc[row_indexer,col_indexer] = value instead\n",
      "\n",
      "See the caveats in the documentation: https://pandas.pydata.org/pandas-docs/stable/user_guide/indexing.html#returning-a-view-versus-a-copy\n",
      "  features[names_cat] = Encoder.fit_transform(features[names_cat])\n"
     ]
    },
    {
     "data": {
      "text/html": [
       "<div>\n",
       "<style scoped>\n",
       "    .dataframe tbody tr th:only-of-type {\n",
       "        vertical-align: middle;\n",
       "    }\n",
       "\n",
       "    .dataframe tbody tr th {\n",
       "        vertical-align: top;\n",
       "    }\n",
       "\n",
       "    .dataframe thead th {\n",
       "        text-align: right;\n",
       "    }\n",
       "</style>\n",
       "<table border=\"1\" class=\"dataframe\">\n",
       "  <thead>\n",
       "    <tr style=\"text-align: right;\">\n",
       "      <th></th>\n",
       "      <th>Rooms</th>\n",
       "      <th>Regionname</th>\n",
       "      <th>Address</th>\n",
       "      <th>Type</th>\n",
       "      <th>Suburb</th>\n",
       "      <th>Regionname</th>\n",
       "      <th>Distance</th>\n",
       "      <th>Propertycount</th>\n",
       "      <th>CouncilArea</th>\n",
       "    </tr>\n",
       "  </thead>\n",
       "  <tbody>\n",
       "    <tr>\n",
       "      <th>0</th>\n",
       "      <td>3</td>\n",
       "      <td>2.0</td>\n",
       "      <td>42390.0</td>\n",
       "      <td>0.0</td>\n",
       "      <td>0.0</td>\n",
       "      <td>2.0</td>\n",
       "      <td>3.0</td>\n",
       "      <td>4019</td>\n",
       "      <td>32.0</td>\n",
       "    </tr>\n",
       "    <tr>\n",
       "      <th>1</th>\n",
       "      <td>3</td>\n",
       "      <td>2.0</td>\n",
       "      <td>46855.0</td>\n",
       "      <td>0.0</td>\n",
       "      <td>0.0</td>\n",
       "      <td>2.0</td>\n",
       "      <td>3.0</td>\n",
       "      <td>4019</td>\n",
       "      <td>32.0</td>\n",
       "    </tr>\n",
       "    <tr>\n",
       "      <th>2</th>\n",
       "      <td>3</td>\n",
       "      <td>2.0</td>\n",
       "      <td>8180.0</td>\n",
       "      <td>0.0</td>\n",
       "      <td>0.0</td>\n",
       "      <td>2.0</td>\n",
       "      <td>3.0</td>\n",
       "      <td>4019</td>\n",
       "      <td>32.0</td>\n",
       "    </tr>\n",
       "    <tr>\n",
       "      <th>3</th>\n",
       "      <td>3</td>\n",
       "      <td>6.0</td>\n",
       "      <td>50133.0</td>\n",
       "      <td>0.0</td>\n",
       "      <td>1.0</td>\n",
       "      <td>6.0</td>\n",
       "      <td>7.5</td>\n",
       "      <td>1543</td>\n",
       "      <td>22.0</td>\n",
       "    </tr>\n",
       "    <tr>\n",
       "      <th>4</th>\n",
       "      <td>2</td>\n",
       "      <td>6.0</td>\n",
       "      <td>57182.0</td>\n",
       "      <td>0.0</td>\n",
       "      <td>2.0</td>\n",
       "      <td>6.0</td>\n",
       "      <td>10.4</td>\n",
       "      <td>3464</td>\n",
       "      <td>22.0</td>\n",
       "    </tr>\n",
       "    <tr>\n",
       "      <th>...</th>\n",
       "      <td>...</td>\n",
       "      <td>...</td>\n",
       "      <td>...</td>\n",
       "      <td>...</td>\n",
       "      <td>...</td>\n",
       "      <td>...</td>\n",
       "      <td>...</td>\n",
       "      <td>...</td>\n",
       "      <td>...</td>\n",
       "    </tr>\n",
       "    <tr>\n",
       "      <th>63018</th>\n",
       "      <td>3</td>\n",
       "      <td>2.0</td>\n",
       "      <td>29496.0</td>\n",
       "      <td>0.0</td>\n",
       "      <td>295.0</td>\n",
       "      <td>2.0</td>\n",
       "      <td>20.6</td>\n",
       "      <td>5833</td>\n",
       "      <td>11.0</td>\n",
       "    </tr>\n",
       "    <tr>\n",
       "      <th>63019</th>\n",
       "      <td>3</td>\n",
       "      <td>2.0</td>\n",
       "      <td>56375.0</td>\n",
       "      <td>0.0</td>\n",
       "      <td>295.0</td>\n",
       "      <td>2.0</td>\n",
       "      <td>20.6</td>\n",
       "      <td>5833</td>\n",
       "      <td>11.0</td>\n",
       "    </tr>\n",
       "    <tr>\n",
       "      <th>63020</th>\n",
       "      <td>3</td>\n",
       "      <td>2.0</td>\n",
       "      <td>43497.0</td>\n",
       "      <td>0.0</td>\n",
       "      <td>295.0</td>\n",
       "      <td>2.0</td>\n",
       "      <td>20.6</td>\n",
       "      <td>5833</td>\n",
       "      <td>11.0</td>\n",
       "    </tr>\n",
       "    <tr>\n",
       "      <th>63021</th>\n",
       "      <td>3</td>\n",
       "      <td>2.0</td>\n",
       "      <td>30605.0</td>\n",
       "      <td>2.0</td>\n",
       "      <td>332.0</td>\n",
       "      <td>2.0</td>\n",
       "      <td>15.3</td>\n",
       "      <td>7955</td>\n",
       "      <td>30.0</td>\n",
       "    </tr>\n",
       "    <tr>\n",
       "      <th>63022</th>\n",
       "      <td>4</td>\n",
       "      <td>6.0</td>\n",
       "      <td>286.0</td>\n",
       "      <td>0.0</td>\n",
       "      <td>364.0</td>\n",
       "      <td>6.0</td>\n",
       "      <td>17.6</td>\n",
       "      <td>1999</td>\n",
       "      <td>31.0</td>\n",
       "    </tr>\n",
       "  </tbody>\n",
       "</table>\n",
       "<p>63023 rows × 9 columns</p>\n",
       "</div>"
      ],
      "text/plain": [
       "       Rooms  Regionname  Address  Type  Suburb  Regionname  Distance  \\\n",
       "0          3         2.0  42390.0   0.0     0.0         2.0       3.0   \n",
       "1          3         2.0  46855.0   0.0     0.0         2.0       3.0   \n",
       "2          3         2.0   8180.0   0.0     0.0         2.0       3.0   \n",
       "3          3         6.0  50133.0   0.0     1.0         6.0       7.5   \n",
       "4          2         6.0  57182.0   0.0     2.0         6.0      10.4   \n",
       "...      ...         ...      ...   ...     ...         ...       ...   \n",
       "63018      3         2.0  29496.0   0.0   295.0         2.0      20.6   \n",
       "63019      3         2.0  56375.0   0.0   295.0         2.0      20.6   \n",
       "63020      3         2.0  43497.0   0.0   295.0         2.0      20.6   \n",
       "63021      3         2.0  30605.0   2.0   332.0         2.0      15.3   \n",
       "63022      4         6.0    286.0   0.0   364.0         6.0      17.6   \n",
       "\n",
       "       Propertycount  CouncilArea  \n",
       "0               4019         32.0  \n",
       "1               4019         32.0  \n",
       "2               4019         32.0  \n",
       "3               1543         22.0  \n",
       "4               3464         22.0  \n",
       "...              ...          ...  \n",
       "63018           5833         11.0  \n",
       "63019           5833         11.0  \n",
       "63020           5833         11.0  \n",
       "63021           7955         30.0  \n",
       "63022           1999         31.0  \n",
       "\n",
       "[63023 rows x 9 columns]"
      ]
     },
     "execution_count": 8,
     "metadata": {},
     "output_type": "execute_result"
    }
   ],
   "source": [
    "from sklearn.preprocessing import OrdinalEncoder #transform the categoricals  data in numerical data\n",
    "\n",
    "Encoder = OrdinalEncoder() #put de ordinalencoder fuction\n",
    "\n",
    "names_cat =  features.select_dtypes(include='object').columns #names of columns\n",
    "\n",
    "#fit and transform of the columns with ordinalencoder\n",
    "features[names_cat] = Encoder.fit_transform(features[names_cat])  \n",
    "features\n"
   ]
  },
  {
   "cell_type": "markdown",
   "id": "ef2b14ca",
   "metadata": {
    "papermill": {
     "duration": 0.005145,
     "end_time": "2024-02-06T21:13:07.825045",
     "exception": false,
     "start_time": "2024-02-06T21:13:07.819900",
     "status": "completed"
    },
    "tags": []
   },
   "source": [
    "# creation of model"
   ]
  },
  {
   "cell_type": "code",
   "execution_count": 9,
   "id": "7b19da09",
   "metadata": {
    "execution": {
     "iopub.execute_input": "2024-02-06T21:13:07.837765Z",
     "iopub.status.busy": "2024-02-06T21:13:07.837379Z",
     "iopub.status.idle": "2024-02-06T21:13:07.844169Z",
     "shell.execute_reply": "2024-02-06T21:13:07.842880Z"
    },
    "papermill": {
     "duration": 0.015913,
     "end_time": "2024-02-06T21:13:07.846373",
     "exception": false,
     "start_time": "2024-02-06T21:13:07.830460",
     "status": "completed"
    },
    "tags": []
   },
   "outputs": [],
   "source": [
    "#fillna the y target with the mean of price \n",
    "y = data['Price']\n",
    "y =  y.fillna(y.mean())\n",
    "\n",
    "X = features #change the name of features to X \n"
   ]
  },
  {
   "cell_type": "code",
   "execution_count": 10,
   "id": "3ea1a30a",
   "metadata": {
    "execution": {
     "iopub.execute_input": "2024-02-06T21:13:07.859470Z",
     "iopub.status.busy": "2024-02-06T21:13:07.859125Z",
     "iopub.status.idle": "2024-02-06T21:13:08.425544Z",
     "shell.execute_reply": "2024-02-06T21:13:08.424599Z"
    },
    "papermill": {
     "duration": 0.575062,
     "end_time": "2024-02-06T21:13:08.427345",
     "exception": false,
     "start_time": "2024-02-06T21:13:07.852283",
     "status": "completed"
    },
    "tags": []
   },
   "outputs": [
    {
     "data": {
      "text/html": [
       "<style>#sk-container-id-1 {color: black;background-color: white;}#sk-container-id-1 pre{padding: 0;}#sk-container-id-1 div.sk-toggleable {background-color: white;}#sk-container-id-1 label.sk-toggleable__label {cursor: pointer;display: block;width: 100%;margin-bottom: 0;padding: 0.3em;box-sizing: border-box;text-align: center;}#sk-container-id-1 label.sk-toggleable__label-arrow:before {content: \"▸\";float: left;margin-right: 0.25em;color: #696969;}#sk-container-id-1 label.sk-toggleable__label-arrow:hover:before {color: black;}#sk-container-id-1 div.sk-estimator:hover label.sk-toggleable__label-arrow:before {color: black;}#sk-container-id-1 div.sk-toggleable__content {max-height: 0;max-width: 0;overflow: hidden;text-align: left;background-color: #f0f8ff;}#sk-container-id-1 div.sk-toggleable__content pre {margin: 0.2em;color: black;border-radius: 0.25em;background-color: #f0f8ff;}#sk-container-id-1 input.sk-toggleable__control:checked~div.sk-toggleable__content {max-height: 200px;max-width: 100%;overflow: auto;}#sk-container-id-1 input.sk-toggleable__control:checked~label.sk-toggleable__label-arrow:before {content: \"▾\";}#sk-container-id-1 div.sk-estimator input.sk-toggleable__control:checked~label.sk-toggleable__label {background-color: #d4ebff;}#sk-container-id-1 div.sk-label input.sk-toggleable__control:checked~label.sk-toggleable__label {background-color: #d4ebff;}#sk-container-id-1 input.sk-hidden--visually {border: 0;clip: rect(1px 1px 1px 1px);clip: rect(1px, 1px, 1px, 1px);height: 1px;margin: -1px;overflow: hidden;padding: 0;position: absolute;width: 1px;}#sk-container-id-1 div.sk-estimator {font-family: monospace;background-color: #f0f8ff;border: 1px dotted black;border-radius: 0.25em;box-sizing: border-box;margin-bottom: 0.5em;}#sk-container-id-1 div.sk-estimator:hover {background-color: #d4ebff;}#sk-container-id-1 div.sk-parallel-item::after {content: \"\";width: 100%;border-bottom: 1px solid gray;flex-grow: 1;}#sk-container-id-1 div.sk-label:hover label.sk-toggleable__label {background-color: #d4ebff;}#sk-container-id-1 div.sk-serial::before {content: \"\";position: absolute;border-left: 1px solid gray;box-sizing: border-box;top: 0;bottom: 0;left: 50%;z-index: 0;}#sk-container-id-1 div.sk-serial {display: flex;flex-direction: column;align-items: center;background-color: white;padding-right: 0.2em;padding-left: 0.2em;position: relative;}#sk-container-id-1 div.sk-item {position: relative;z-index: 1;}#sk-container-id-1 div.sk-parallel {display: flex;align-items: stretch;justify-content: center;background-color: white;position: relative;}#sk-container-id-1 div.sk-item::before, #sk-container-id-1 div.sk-parallel-item::before {content: \"\";position: absolute;border-left: 1px solid gray;box-sizing: border-box;top: 0;bottom: 0;left: 50%;z-index: -1;}#sk-container-id-1 div.sk-parallel-item {display: flex;flex-direction: column;z-index: 1;position: relative;background-color: white;}#sk-container-id-1 div.sk-parallel-item:first-child::after {align-self: flex-end;width: 50%;}#sk-container-id-1 div.sk-parallel-item:last-child::after {align-self: flex-start;width: 50%;}#sk-container-id-1 div.sk-parallel-item:only-child::after {width: 0;}#sk-container-id-1 div.sk-dashed-wrapped {border: 1px dashed gray;margin: 0 0.4em 0.5em 0.4em;box-sizing: border-box;padding-bottom: 0.4em;background-color: white;}#sk-container-id-1 div.sk-label label {font-family: monospace;font-weight: bold;display: inline-block;line-height: 1.2em;}#sk-container-id-1 div.sk-label-container {text-align: center;}#sk-container-id-1 div.sk-container {/* jupyter's `normalize.less` sets `[hidden] { display: none; }` but bootstrap.min.css set `[hidden] { display: none !important; }` so we also need the `!important` here to be able to override the default hidden behavior on the sphinx rendered scikit-learn.org. See: https://github.com/scikit-learn/scikit-learn/issues/21755 */display: inline-block !important;position: relative;}#sk-container-id-1 div.sk-text-repr-fallback {display: none;}</style><div id=\"sk-container-id-1\" class=\"sk-top-container\"><div class=\"sk-text-repr-fallback\"><pre>DecisionTreeRegressor(random_state=1)</pre><b>In a Jupyter environment, please rerun this cell to show the HTML representation or trust the notebook. <br />On GitHub, the HTML representation is unable to render, please try loading this page with nbviewer.org.</b></div><div class=\"sk-container\" hidden><div class=\"sk-item\"><div class=\"sk-estimator sk-toggleable\"><input class=\"sk-toggleable__control sk-hidden--visually\" id=\"sk-estimator-id-1\" type=\"checkbox\" checked><label for=\"sk-estimator-id-1\" class=\"sk-toggleable__label sk-toggleable__label-arrow\">DecisionTreeRegressor</label><div class=\"sk-toggleable__content\"><pre>DecisionTreeRegressor(random_state=1)</pre></div></div></div></div></div>"
      ],
      "text/plain": [
       "DecisionTreeRegressor(random_state=1)"
      ]
     },
     "execution_count": 10,
     "metadata": {},
     "output_type": "execute_result"
    }
   ],
   "source": [
    "from sklearn.tree import DecisionTreeRegressor \n",
    "\n",
    "\n",
    "regressor = DecisionTreeRegressor(random_state = 1)\n",
    "regressor.fit(X,y) #fit the model "
   ]
  },
  {
   "cell_type": "code",
   "execution_count": 11,
   "id": "f0db099a",
   "metadata": {
    "execution": {
     "iopub.execute_input": "2024-02-06T21:13:08.440339Z",
     "iopub.status.busy": "2024-02-06T21:13:08.440058Z",
     "iopub.status.idle": "2024-02-06T21:13:08.468660Z",
     "shell.execute_reply": "2024-02-06T21:13:08.467086Z"
    },
    "papermill": {
     "duration": 0.037247,
     "end_time": "2024-02-06T21:13:08.470327",
     "exception": false,
     "start_time": "2024-02-06T21:13:08.433080",
     "status": "completed"
    },
    "tags": []
   },
   "outputs": [
    {
     "data": {
      "text/plain": [
       "array([1490000.        , 1220000.        , 1420000.        , ...,\n",
       "        545000.        ,  713949.12074412,  997898.24148824])"
      ]
     },
     "execution_count": 11,
     "metadata": {},
     "output_type": "execute_result"
    }
   ],
   "source": [
    "regressor.predict(features)  #predict the mean of amount of cost of the Houses"
   ]
  }
 ],
 "metadata": {
  "kaggle": {
   "accelerator": "none",
   "dataSources": [
    {
     "datasetId": 423,
     "sourceId": 126865,
     "sourceType": "datasetVersion"
    }
   ],
   "dockerImageVersionId": 30646,
   "isGpuEnabled": false,
   "isInternetEnabled": true,
   "language": "python",
   "sourceType": "notebook"
  },
  "kernelspec": {
   "display_name": "Python 3",
   "language": "python",
   "name": "python3"
  },
  "language_info": {
   "codemirror_mode": {
    "name": "ipython",
    "version": 3
   },
   "file_extension": ".py",
   "mimetype": "text/x-python",
   "name": "python",
   "nbconvert_exporter": "python",
   "pygments_lexer": "ipython3",
   "version": "3.10.13"
  },
  "papermill": {
   "default_parameters": {},
   "duration": 7.549914,
   "end_time": "2024-02-06T21:13:09.095765",
   "environment_variables": {},
   "exception": null,
   "input_path": "__notebook__.ipynb",
   "output_path": "__notebook__.ipynb",
   "parameters": {},
   "start_time": "2024-02-06T21:13:01.545851",
   "version": "2.5.0"
  }
 },
 "nbformat": 4,
 "nbformat_minor": 5
}
